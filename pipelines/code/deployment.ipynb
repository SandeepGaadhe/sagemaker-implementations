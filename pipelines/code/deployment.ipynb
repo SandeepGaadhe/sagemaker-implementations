{
 "cells": [
  {
   "cell_type": "markdown",
   "id": "11720a5f-fd67-484d-a9df-34c075201c8f",
   "metadata": {},
   "source": [
    "## <center><font size=\"5\" color='black'> ------------- Section 03 - Pipelines ------------- </font>"
   ]
  },
  {
   "cell_type": "code",
   "execution_count": 2,
   "id": "a2a20726-7a27-4f35-a354-8bdbfba58f86",
   "metadata": {
    "tags": []
   },
   "outputs": [],
   "source": [
    "import utils as u\n",
    "import boto3"
   ]
  },
  {
   "cell_type": "markdown",
   "id": "7652a561-b6f7-413d-b1ea-670e7283c13e",
   "metadata": {},
   "source": [
    "### <font size=\"2\" color='red'>Pull up artifacts that are provided by development team/reject the model</font>"
   ]
  },
  {
   "cell_type": "code",
   "execution_count": 3,
   "id": "1d1acfc6-408d-40f3-a1e4-bb6b62740787",
   "metadata": {
    "tags": []
   },
   "outputs": [
    {
     "name": "stdout",
     "output_type": "stream",
     "text": [
      "downloaded /root/git/sandeep-gaadhe-git/sagemaker-implementations/pipelines/deployment/eval_metrics.csv\n",
      "downloaded /root/git/sandeep-gaadhe-git/sagemaker-implementations/pipelines/deployment/model.tar.gz\n",
      "downloaded /root/git/sandeep-gaadhe-git/sagemaker-implementations/pipelines/deployment/preprocessRawData.py\n"
     ]
    }
   ],
   "source": [
    "\"\"\"\n",
    "# What : In previous step, we (as a development team) have completed development and testing of notebook. As a output, the development\n",
    "         team has produced below artificats for deploymet team\n",
    "         1. preProcessRawData.py : Script to pre-process new incoming data in production before being provided to our model. Our model is trained on\n",
    "            pre-processed data, hence whenever we get a new data in production we must pre-process it before givig it to model for better predictions.\n",
    "            \n",
    "         2. model.gz : This is our trained model that the development team has requested to be deployed in production.\n",
    "         \n",
    "         3. eval_metrics.csv : This is the evaluation metrics which is also provided by development team. Based on eval metrics, deployment team can\n",
    "            make decision (using code or manual) whether to approve the model for production deployment or reject it.\n",
    "\n",
    "# Why : We have purposely created a separate notebook for deployment team. This is for better understand that the previous notebook was developed with\n",
    "        developer mindset. This notebook is now for deployer mindset. The deployment team is more focussed on validating model for prod deployment, \n",
    "        builing pipelines, making decision on data drift, model drift etc. \n",
    "\n",
    "# Anything Else : No\n",
    "\n",
    "\"\"\"\n",
    "\n",
    "# declare some root folder variables\n",
    "my_bucket_name= '01-attempts-406016308324'\n",
    "\n",
    "prefix_s3_deployer = r'pipelines/use_case_ageVsSalary/deployerRegion'\n",
    "\n",
    "root_s3_deployer = r's3://01-attempts-406016308324/pipelines/use_case_ageVsSalary/deployerRegion'\n",
    "root_local_folder = '/root/git/sandeep-gaadhe-git/sagemaker-implementations/pipelines'\n",
    "\n",
    "local_data_folder = fr'{root_local_folder}/data'\n",
    "local_deploy_folder = fr'{root_local_folder}/deployment/'\n",
    "\n",
    "deployment_folder = fr'{root_s3_deployer}/deployment_20240823123423/'\n",
    "\n",
    "bucket_name, prefix, files = u.get_all_files_from_s3_url(s3_url = deployment_folder, local_url = local_deploy_folder)"
   ]
  },
  {
   "cell_type": "code",
   "execution_count": null,
   "id": "49f763b0-8e65-4bec-92ac-4f3ca8e73205",
   "metadata": {
    "tags": []
   },
   "outputs": [],
   "source": [
    "# print(fr'{deployment_folder}model.tar.gz')\n",
    "# # print(bucket_name, prefix, files)\n",
    "# for file in files:\n",
    "#     if file == 'model.tar.gz':\n",
    "#         print(fr's3://{bucket_name}/{prefix}{file}')\n",
    "#     else:\n",
    "#         continue"
   ]
  },
  {
   "cell_type": "markdown",
   "id": "0b61531b-0dcf-49a3-84fc-a46de68510eb",
   "metadata": {},
   "source": [
    "### <font size=\"2\" color='red'>Register the model with RMSE as metric to approve/reject the model</font>"
   ]
  },
  {
   "cell_type": "code",
   "execution_count": 4,
   "id": "dcac52c9-e11e-4ac8-8cd0-641fc9ab3b1c",
   "metadata": {
    "tags": []
   },
   "outputs": [
    {
     "ename": "SyntaxError",
     "evalue": "invalid syntax (211756969.py, line 1)",
     "output_type": "error",
     "traceback": [
      "\u001b[0;36m  Cell \u001b[0;32mIn[4], line 1\u001b[0;36m\u001b[0m\n\u001b[0;31m    pending : get eval metric and create a decision code to either approve or reject the model.\u001b[0m\n\u001b[0m                  ^\u001b[0m\n\u001b[0;31mSyntaxError\u001b[0m\u001b[0;31m:\u001b[0m invalid syntax\n"
     ]
    }
   ],
   "source": [
    "pending : get eval metric and create a decision code to either approve or reject the model.\n",
    "df_eval_metrics = pd.read_csv(r'./deployment/', header=1, index_col=\"ID\")"
   ]
  },
  {
   "cell_type": "code",
   "execution_count": null,
   "id": "a2347e20-aec6-48e4-99d1-7689911728c3",
   "metadata": {
    "tags": []
   },
   "outputs": [],
   "source": [
    "# getting the linear learner image according to the region\n",
    "from sagemaker.image_uris import retrieve\n",
    "\n",
    "base_image_linear_learner = retrieve(\"linear-learner\", boto3.Session().region_name, version=\"1\")\n",
    "print(f'base_image_linear_learner : {base_image_linear_learner}')"
   ]
  },
  {
   "cell_type": "code",
   "execution_count": null,
   "id": "6a187746-6436-4e56-bb7b-1263e8585966",
   "metadata": {},
   "outputs": [],
   "source": [
    "from sagemaker.model import Model\n",
    "from sagemaker.predictor import Predictor\n",
    "import sagemaker\n",
    "\n",
    "# stored_model_artifact = fr'./deployment/model.tar.gz'\n",
    "\n",
    "stored_model_artifact = fr'{deployment_folder}model.tar.gz'\n",
    "ldn_time = u.get_london_time()\n",
    "role = sagemaker.get_execution_role()\n",
    "model_name=\"AgeVsSalary-model-\" + ldn_time\n",
    "\n",
    "# this does not create an entry under SageMaker >> Inferences >> Models\n",
    "# or SageMaker Studio >> Models >> Model Registry\n",
    "stored_model = Model(\n",
    "                        image_uri=base_image_linear_learner,\n",
    "                        model_data=stored_model_artifact,\n",
    "                        role=role,\n",
    "                        name=model_name,\n",
    "                        predictor_cls=Predictor\n",
    "                        )\n",
    "\n",
    "# todo\n",
    "stored_model.create(stored_model.name)\n",
    "print(f'Created model {stored_model.name}')"
   ]
  },
  {
   "cell_type": "raw",
   "id": "a4c8c154-fec7-4ae1-b32f-b43487a11a6c",
   "metadata": {},
   "source": [
    "assign model quality, data quality, bias drift etc under sagemaker >> governance >> model dashboard"
   ]
  },
  {
   "cell_type": "code",
   "execution_count": null,
   "id": "b173aa47-6de5-4236-a71e-38733e1fe2cf",
   "metadata": {
    "tags": []
   },
   "outputs": [],
   "source": [
    "# model.register is used to maintan model versioning. The method makes use of model already created using model.create method.\n",
    "\n",
    "# In Amazon SageMaker, when you register a model using the register() method, SageMaker automatically assigns a version number to the model within the specified Model Package Group. Unfortunately, you cannot explicitly set a custom version number when registering the model. The version numbers are sequential and managed by SageMaker.\n",
    "\n",
    "# However, you can track and manage your versions effectively using tags, metadata, or descriptions. If you need to refer to a specific version with a custom identifier, you can include that information in the model's description or tags when registering the model.\n",
    "\n",
    "# if the below code is executed twice than SageMaker will create Version 1 and Version 2 under SageMaker Studio >> Models >> Model Registry\n",
    "\n",
    "model_package_group_name = \"model-package-group-ageVsSalary\"\n",
    "model_approval_status = \"PendingManualApproval\"\n",
    "\n",
    "register_args = stored_model.register(\n",
    "                                        content_types=[\"text/csv\"],\n",
    "                                        response_types=[\"text/csv\"],\n",
    "                                        inference_instances=[\"ml.t2.medium\", \"ml.m5.xlarge\"],\n",
    "                                        transform_instances=[\"ml.m5.xlarge\"],\n",
    "                                        model_package_group_name=model_package_group_name,\n",
    "                                        # model_package_description='Model AgeVsSalary - LinearLearner - Version 1.0', \n",
    "                                        approval_status=model_approval_status\n",
    "                                        )"
   ]
  },
  {
   "cell_type": "markdown",
   "id": "6cfa4ad0-1860-45c8-a83c-53f22ee4c9e3",
   "metadata": {},
   "source": [
    "### <font size=\"2\" color='red'>Simultaneously, create a sample pipeline for deploying the model, if approved</font>"
   ]
  },
  {
   "cell_type": "markdown",
   "id": "c85f9b82-490a-4481-932a-3edf2e4224f0",
   "metadata": {},
   "source": [
    "### <font size=\"2\" color='red'>Execute pipeline to deploy the model</font>"
   ]
  },
  {
   "cell_type": "markdown",
   "id": "6e427b99-2f39-4967-8e4c-74bbb855e443",
   "metadata": {},
   "source": [
    "### <font size=\"2\" color='red'>Upload new unseen data and generate inference by using model deployed thru pipeline</font>"
   ]
  },
  {
   "cell_type": "markdown",
   "id": "3bfaea82-bed5-49cf-a188-cd22c448c9db",
   "metadata": {},
   "source": [
    "## <center><font size=\"5\" color='black'> ------------- Section 04 - DefaultModelMonitor ------------- </font>"
   ]
  },
  {
   "cell_type": "markdown",
   "id": "7203fcb8-393d-46b3-a5ab-68741e61e833",
   "metadata": {},
   "source": [
    "## <font size=\"3\" color='blue'>DefaultModelMonitor : Create code to monitor data quality and accept/reject batch input file based on constraints</font>"
   ]
  },
  {
   "cell_type": "markdown",
   "id": "a41fae55-0805-4fed-9b79-1b5c55bb9cbd",
   "metadata": {},
   "source": [
    "### <font size=\"2\" color='blue'>Code for monitor data quality config and job using DefaultModelMonitor</font>"
   ]
  },
  {
   "cell_type": "markdown",
   "id": "231d224b-2a35-4fd3-99a1-2437b94a88e3",
   "metadata": {},
   "source": [
    "### <font size=\"2\" color='blue'>Get a batch input file with outlier that the monitor data quality step should REJECT</font>"
   ]
  },
  {
   "cell_type": "markdown",
   "id": "da7cba4c-ee90-4b10-a9d4-a42c3e001fe1",
   "metadata": {},
   "source": [
    "### <font size=\"2\" color='blue'>Get a batch input file with outlier that the monitor data quality step should ACCEPT</font>"
   ]
  },
  {
   "cell_type": "markdown",
   "id": "314131fd-f893-4bb7-b85f-3dbe2c8aa744",
   "metadata": {},
   "source": [
    "## <center><font size=\"5\" color='black'> ------------- Section 05 - ModelMonitor ------------- </font>"
   ]
  },
  {
   "cell_type": "markdown",
   "id": "e81bcdd4-61d9-48cc-ab19-843394cb5345",
   "metadata": {},
   "source": [
    "## <font size=\"3\" color='green'>ModelMonitor : Create code to monitor data quality and accept/reject batch input file based on constraints</font>"
   ]
  },
  {
   "cell_type": "markdown",
   "id": "6d3062a6-c522-49d1-9951-1884466bc344",
   "metadata": {},
   "source": [
    "### <font size=\"2\" color='green'>Code for monitor data quality config and job using ModelMonitor</font>"
   ]
  },
  {
   "cell_type": "markdown",
   "id": "5e0a15bb-012b-48ab-ae94-8b958f01fa6a",
   "metadata": {},
   "source": [
    "### <font size=\"2\" color='green'>Get a batch input file with outlier that the monitor data quality step should REJECT</font>"
   ]
  },
  {
   "cell_type": "markdown",
   "id": "1c90d9ee-0eda-480f-b17e-642dc4d5911c",
   "metadata": {},
   "source": [
    "### <font size=\"2\" color='green'>Get a batch input file with outlier that the monitor data quality step should ACCEPT</font>"
   ]
  },
  {
   "cell_type": "markdown",
   "id": "b18e5f11-07f3-4811-9c09-59fdef53f2d4",
   "metadata": {},
   "source": [
    "# <font size=\"4\" color='black'>End Of Notebook</font>"
   ]
  }
 ],
 "metadata": {
  "availableInstances": [
   {
    "_defaultOrder": 0,
    "_isFastLaunch": true,
    "category": "General purpose",
    "gpuNum": 0,
    "hideHardwareSpecs": false,
    "memoryGiB": 4,
    "name": "ml.t3.medium",
    "vcpuNum": 2
   },
   {
    "_defaultOrder": 1,
    "_isFastLaunch": false,
    "category": "General purpose",
    "gpuNum": 0,
    "hideHardwareSpecs": false,
    "memoryGiB": 8,
    "name": "ml.t3.large",
    "vcpuNum": 2
   },
   {
    "_defaultOrder": 2,
    "_isFastLaunch": false,
    "category": "General purpose",
    "gpuNum": 0,
    "hideHardwareSpecs": false,
    "memoryGiB": 16,
    "name": "ml.t3.xlarge",
    "vcpuNum": 4
   },
   {
    "_defaultOrder": 3,
    "_isFastLaunch": false,
    "category": "General purpose",
    "gpuNum": 0,
    "hideHardwareSpecs": false,
    "memoryGiB": 32,
    "name": "ml.t3.2xlarge",
    "vcpuNum": 8
   },
   {
    "_defaultOrder": 4,
    "_isFastLaunch": true,
    "category": "General purpose",
    "gpuNum": 0,
    "hideHardwareSpecs": false,
    "memoryGiB": 8,
    "name": "ml.m5.large",
    "vcpuNum": 2
   },
   {
    "_defaultOrder": 5,
    "_isFastLaunch": false,
    "category": "General purpose",
    "gpuNum": 0,
    "hideHardwareSpecs": false,
    "memoryGiB": 16,
    "name": "ml.m5.xlarge",
    "vcpuNum": 4
   },
   {
    "_defaultOrder": 6,
    "_isFastLaunch": false,
    "category": "General purpose",
    "gpuNum": 0,
    "hideHardwareSpecs": false,
    "memoryGiB": 32,
    "name": "ml.m5.2xlarge",
    "vcpuNum": 8
   },
   {
    "_defaultOrder": 7,
    "_isFastLaunch": false,
    "category": "General purpose",
    "gpuNum": 0,
    "hideHardwareSpecs": false,
    "memoryGiB": 64,
    "name": "ml.m5.4xlarge",
    "vcpuNum": 16
   },
   {
    "_defaultOrder": 8,
    "_isFastLaunch": false,
    "category": "General purpose",
    "gpuNum": 0,
    "hideHardwareSpecs": false,
    "memoryGiB": 128,
    "name": "ml.m5.8xlarge",
    "vcpuNum": 32
   },
   {
    "_defaultOrder": 9,
    "_isFastLaunch": false,
    "category": "General purpose",
    "gpuNum": 0,
    "hideHardwareSpecs": false,
    "memoryGiB": 192,
    "name": "ml.m5.12xlarge",
    "vcpuNum": 48
   },
   {
    "_defaultOrder": 10,
    "_isFastLaunch": false,
    "category": "General purpose",
    "gpuNum": 0,
    "hideHardwareSpecs": false,
    "memoryGiB": 256,
    "name": "ml.m5.16xlarge",
    "vcpuNum": 64
   },
   {
    "_defaultOrder": 11,
    "_isFastLaunch": false,
    "category": "General purpose",
    "gpuNum": 0,
    "hideHardwareSpecs": false,
    "memoryGiB": 384,
    "name": "ml.m5.24xlarge",
    "vcpuNum": 96
   },
   {
    "_defaultOrder": 12,
    "_isFastLaunch": false,
    "category": "General purpose",
    "gpuNum": 0,
    "hideHardwareSpecs": false,
    "memoryGiB": 8,
    "name": "ml.m5d.large",
    "vcpuNum": 2
   },
   {
    "_defaultOrder": 13,
    "_isFastLaunch": false,
    "category": "General purpose",
    "gpuNum": 0,
    "hideHardwareSpecs": false,
    "memoryGiB": 16,
    "name": "ml.m5d.xlarge",
    "vcpuNum": 4
   },
   {
    "_defaultOrder": 14,
    "_isFastLaunch": false,
    "category": "General purpose",
    "gpuNum": 0,
    "hideHardwareSpecs": false,
    "memoryGiB": 32,
    "name": "ml.m5d.2xlarge",
    "vcpuNum": 8
   },
   {
    "_defaultOrder": 15,
    "_isFastLaunch": false,
    "category": "General purpose",
    "gpuNum": 0,
    "hideHardwareSpecs": false,
    "memoryGiB": 64,
    "name": "ml.m5d.4xlarge",
    "vcpuNum": 16
   },
   {
    "_defaultOrder": 16,
    "_isFastLaunch": false,
    "category": "General purpose",
    "gpuNum": 0,
    "hideHardwareSpecs": false,
    "memoryGiB": 128,
    "name": "ml.m5d.8xlarge",
    "vcpuNum": 32
   },
   {
    "_defaultOrder": 17,
    "_isFastLaunch": false,
    "category": "General purpose",
    "gpuNum": 0,
    "hideHardwareSpecs": false,
    "memoryGiB": 192,
    "name": "ml.m5d.12xlarge",
    "vcpuNum": 48
   },
   {
    "_defaultOrder": 18,
    "_isFastLaunch": false,
    "category": "General purpose",
    "gpuNum": 0,
    "hideHardwareSpecs": false,
    "memoryGiB": 256,
    "name": "ml.m5d.16xlarge",
    "vcpuNum": 64
   },
   {
    "_defaultOrder": 19,
    "_isFastLaunch": false,
    "category": "General purpose",
    "gpuNum": 0,
    "hideHardwareSpecs": false,
    "memoryGiB": 384,
    "name": "ml.m5d.24xlarge",
    "vcpuNum": 96
   },
   {
    "_defaultOrder": 20,
    "_isFastLaunch": false,
    "category": "General purpose",
    "gpuNum": 0,
    "hideHardwareSpecs": true,
    "memoryGiB": 0,
    "name": "ml.geospatial.interactive",
    "supportedImageNames": [
     "sagemaker-geospatial-v1-0"
    ],
    "vcpuNum": 0
   },
   {
    "_defaultOrder": 21,
    "_isFastLaunch": true,
    "category": "Compute optimized",
    "gpuNum": 0,
    "hideHardwareSpecs": false,
    "memoryGiB": 4,
    "name": "ml.c5.large",
    "vcpuNum": 2
   },
   {
    "_defaultOrder": 22,
    "_isFastLaunch": false,
    "category": "Compute optimized",
    "gpuNum": 0,
    "hideHardwareSpecs": false,
    "memoryGiB": 8,
    "name": "ml.c5.xlarge",
    "vcpuNum": 4
   },
   {
    "_defaultOrder": 23,
    "_isFastLaunch": false,
    "category": "Compute optimized",
    "gpuNum": 0,
    "hideHardwareSpecs": false,
    "memoryGiB": 16,
    "name": "ml.c5.2xlarge",
    "vcpuNum": 8
   },
   {
    "_defaultOrder": 24,
    "_isFastLaunch": false,
    "category": "Compute optimized",
    "gpuNum": 0,
    "hideHardwareSpecs": false,
    "memoryGiB": 32,
    "name": "ml.c5.4xlarge",
    "vcpuNum": 16
   },
   {
    "_defaultOrder": 25,
    "_isFastLaunch": false,
    "category": "Compute optimized",
    "gpuNum": 0,
    "hideHardwareSpecs": false,
    "memoryGiB": 72,
    "name": "ml.c5.9xlarge",
    "vcpuNum": 36
   },
   {
    "_defaultOrder": 26,
    "_isFastLaunch": false,
    "category": "Compute optimized",
    "gpuNum": 0,
    "hideHardwareSpecs": false,
    "memoryGiB": 96,
    "name": "ml.c5.12xlarge",
    "vcpuNum": 48
   },
   {
    "_defaultOrder": 27,
    "_isFastLaunch": false,
    "category": "Compute optimized",
    "gpuNum": 0,
    "hideHardwareSpecs": false,
    "memoryGiB": 144,
    "name": "ml.c5.18xlarge",
    "vcpuNum": 72
   },
   {
    "_defaultOrder": 28,
    "_isFastLaunch": false,
    "category": "Compute optimized",
    "gpuNum": 0,
    "hideHardwareSpecs": false,
    "memoryGiB": 192,
    "name": "ml.c5.24xlarge",
    "vcpuNum": 96
   },
   {
    "_defaultOrder": 29,
    "_isFastLaunch": true,
    "category": "Accelerated computing",
    "gpuNum": 1,
    "hideHardwareSpecs": false,
    "memoryGiB": 16,
    "name": "ml.g4dn.xlarge",
    "vcpuNum": 4
   },
   {
    "_defaultOrder": 30,
    "_isFastLaunch": false,
    "category": "Accelerated computing",
    "gpuNum": 1,
    "hideHardwareSpecs": false,
    "memoryGiB": 32,
    "name": "ml.g4dn.2xlarge",
    "vcpuNum": 8
   },
   {
    "_defaultOrder": 31,
    "_isFastLaunch": false,
    "category": "Accelerated computing",
    "gpuNum": 1,
    "hideHardwareSpecs": false,
    "memoryGiB": 64,
    "name": "ml.g4dn.4xlarge",
    "vcpuNum": 16
   },
   {
    "_defaultOrder": 32,
    "_isFastLaunch": false,
    "category": "Accelerated computing",
    "gpuNum": 1,
    "hideHardwareSpecs": false,
    "memoryGiB": 128,
    "name": "ml.g4dn.8xlarge",
    "vcpuNum": 32
   },
   {
    "_defaultOrder": 33,
    "_isFastLaunch": false,
    "category": "Accelerated computing",
    "gpuNum": 4,
    "hideHardwareSpecs": false,
    "memoryGiB": 192,
    "name": "ml.g4dn.12xlarge",
    "vcpuNum": 48
   },
   {
    "_defaultOrder": 34,
    "_isFastLaunch": false,
    "category": "Accelerated computing",
    "gpuNum": 1,
    "hideHardwareSpecs": false,
    "memoryGiB": 256,
    "name": "ml.g4dn.16xlarge",
    "vcpuNum": 64
   },
   {
    "_defaultOrder": 35,
    "_isFastLaunch": false,
    "category": "Accelerated computing",
    "gpuNum": 1,
    "hideHardwareSpecs": false,
    "memoryGiB": 61,
    "name": "ml.p3.2xlarge",
    "vcpuNum": 8
   },
   {
    "_defaultOrder": 36,
    "_isFastLaunch": false,
    "category": "Accelerated computing",
    "gpuNum": 4,
    "hideHardwareSpecs": false,
    "memoryGiB": 244,
    "name": "ml.p3.8xlarge",
    "vcpuNum": 32
   },
   {
    "_defaultOrder": 37,
    "_isFastLaunch": false,
    "category": "Accelerated computing",
    "gpuNum": 8,
    "hideHardwareSpecs": false,
    "memoryGiB": 488,
    "name": "ml.p3.16xlarge",
    "vcpuNum": 64
   },
   {
    "_defaultOrder": 38,
    "_isFastLaunch": false,
    "category": "Accelerated computing",
    "gpuNum": 8,
    "hideHardwareSpecs": false,
    "memoryGiB": 768,
    "name": "ml.p3dn.24xlarge",
    "vcpuNum": 96
   },
   {
    "_defaultOrder": 39,
    "_isFastLaunch": false,
    "category": "Memory Optimized",
    "gpuNum": 0,
    "hideHardwareSpecs": false,
    "memoryGiB": 16,
    "name": "ml.r5.large",
    "vcpuNum": 2
   },
   {
    "_defaultOrder": 40,
    "_isFastLaunch": false,
    "category": "Memory Optimized",
    "gpuNum": 0,
    "hideHardwareSpecs": false,
    "memoryGiB": 32,
    "name": "ml.r5.xlarge",
    "vcpuNum": 4
   },
   {
    "_defaultOrder": 41,
    "_isFastLaunch": false,
    "category": "Memory Optimized",
    "gpuNum": 0,
    "hideHardwareSpecs": false,
    "memoryGiB": 64,
    "name": "ml.r5.2xlarge",
    "vcpuNum": 8
   },
   {
    "_defaultOrder": 42,
    "_isFastLaunch": false,
    "category": "Memory Optimized",
    "gpuNum": 0,
    "hideHardwareSpecs": false,
    "memoryGiB": 128,
    "name": "ml.r5.4xlarge",
    "vcpuNum": 16
   },
   {
    "_defaultOrder": 43,
    "_isFastLaunch": false,
    "category": "Memory Optimized",
    "gpuNum": 0,
    "hideHardwareSpecs": false,
    "memoryGiB": 256,
    "name": "ml.r5.8xlarge",
    "vcpuNum": 32
   },
   {
    "_defaultOrder": 44,
    "_isFastLaunch": false,
    "category": "Memory Optimized",
    "gpuNum": 0,
    "hideHardwareSpecs": false,
    "memoryGiB": 384,
    "name": "ml.r5.12xlarge",
    "vcpuNum": 48
   },
   {
    "_defaultOrder": 45,
    "_isFastLaunch": false,
    "category": "Memory Optimized",
    "gpuNum": 0,
    "hideHardwareSpecs": false,
    "memoryGiB": 512,
    "name": "ml.r5.16xlarge",
    "vcpuNum": 64
   },
   {
    "_defaultOrder": 46,
    "_isFastLaunch": false,
    "category": "Memory Optimized",
    "gpuNum": 0,
    "hideHardwareSpecs": false,
    "memoryGiB": 768,
    "name": "ml.r5.24xlarge",
    "vcpuNum": 96
   },
   {
    "_defaultOrder": 47,
    "_isFastLaunch": false,
    "category": "Accelerated computing",
    "gpuNum": 1,
    "hideHardwareSpecs": false,
    "memoryGiB": 16,
    "name": "ml.g5.xlarge",
    "vcpuNum": 4
   },
   {
    "_defaultOrder": 48,
    "_isFastLaunch": false,
    "category": "Accelerated computing",
    "gpuNum": 1,
    "hideHardwareSpecs": false,
    "memoryGiB": 32,
    "name": "ml.g5.2xlarge",
    "vcpuNum": 8
   },
   {
    "_defaultOrder": 49,
    "_isFastLaunch": false,
    "category": "Accelerated computing",
    "gpuNum": 1,
    "hideHardwareSpecs": false,
    "memoryGiB": 64,
    "name": "ml.g5.4xlarge",
    "vcpuNum": 16
   },
   {
    "_defaultOrder": 50,
    "_isFastLaunch": false,
    "category": "Accelerated computing",
    "gpuNum": 1,
    "hideHardwareSpecs": false,
    "memoryGiB": 128,
    "name": "ml.g5.8xlarge",
    "vcpuNum": 32
   },
   {
    "_defaultOrder": 51,
    "_isFastLaunch": false,
    "category": "Accelerated computing",
    "gpuNum": 1,
    "hideHardwareSpecs": false,
    "memoryGiB": 256,
    "name": "ml.g5.16xlarge",
    "vcpuNum": 64
   },
   {
    "_defaultOrder": 52,
    "_isFastLaunch": false,
    "category": "Accelerated computing",
    "gpuNum": 4,
    "hideHardwareSpecs": false,
    "memoryGiB": 192,
    "name": "ml.g5.12xlarge",
    "vcpuNum": 48
   },
   {
    "_defaultOrder": 53,
    "_isFastLaunch": false,
    "category": "Accelerated computing",
    "gpuNum": 4,
    "hideHardwareSpecs": false,
    "memoryGiB": 384,
    "name": "ml.g5.24xlarge",
    "vcpuNum": 96
   },
   {
    "_defaultOrder": 54,
    "_isFastLaunch": false,
    "category": "Accelerated computing",
    "gpuNum": 8,
    "hideHardwareSpecs": false,
    "memoryGiB": 768,
    "name": "ml.g5.48xlarge",
    "vcpuNum": 192
   },
   {
    "_defaultOrder": 55,
    "_isFastLaunch": false,
    "category": "Accelerated computing",
    "gpuNum": 8,
    "hideHardwareSpecs": false,
    "memoryGiB": 1152,
    "name": "ml.p4d.24xlarge",
    "vcpuNum": 96
   },
   {
    "_defaultOrder": 56,
    "_isFastLaunch": false,
    "category": "Accelerated computing",
    "gpuNum": 8,
    "hideHardwareSpecs": false,
    "memoryGiB": 1152,
    "name": "ml.p4de.24xlarge",
    "vcpuNum": 96
   },
   {
    "_defaultOrder": 57,
    "_isFastLaunch": false,
    "category": "Accelerated computing",
    "gpuNum": 0,
    "hideHardwareSpecs": false,
    "memoryGiB": 32,
    "name": "ml.trn1.2xlarge",
    "vcpuNum": 8
   },
   {
    "_defaultOrder": 58,
    "_isFastLaunch": false,
    "category": "Accelerated computing",
    "gpuNum": 0,
    "hideHardwareSpecs": false,
    "memoryGiB": 512,
    "name": "ml.trn1.32xlarge",
    "vcpuNum": 128
   },
   {
    "_defaultOrder": 59,
    "_isFastLaunch": false,
    "category": "Accelerated computing",
    "gpuNum": 0,
    "hideHardwareSpecs": false,
    "memoryGiB": 512,
    "name": "ml.trn1n.32xlarge",
    "vcpuNum": 128
   }
  ],
  "kernelspec": {
   "display_name": "Python 3 (Data Science 3.0)",
   "language": "python",
   "name": "python3__SAGEMAKER_INTERNAL__arn:aws:sagemaker:us-east-1:081325390199:image/sagemaker-data-science-310-v1"
  },
  "language_info": {
   "codemirror_mode": {
    "name": "ipython",
    "version": 3
   },
   "file_extension": ".py",
   "mimetype": "text/x-python",
   "name": "python",
   "nbconvert_exporter": "python",
   "pygments_lexer": "ipython3",
   "version": "3.10.6"
  }
 },
 "nbformat": 4,
 "nbformat_minor": 5
}
